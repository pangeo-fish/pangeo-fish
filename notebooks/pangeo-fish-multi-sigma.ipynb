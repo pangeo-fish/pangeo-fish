{
 "cells": [
  {
   "cell_type": "markdown",
   "id": "0",
   "metadata": {
    "editable": true,
    "slideshow": {
     "slide_type": ""
    },
    "tags": []
   },
   "source": [
    "# Multi-sigma minimzation\n",
    "\n",
    "\n",
    "**Overview.**\n",
    "\n",
    "This Jupyter notebook demonstrates a more complex use of `pangeo-fish` than the one presented in the previous notebook.\n",
    "\n",
    "_We thus recommend checking the latter first!_\n",
    "\n",
    "In this guide, we follow the same workflow but consider a longer tag and fit the geolocation models:\n",
    "1. One with one parameter (similarly as the previous notebook)\n",
    "2. One with two parameters.\n",
    "\n",
    "This will let us compare the differences between the results on several aspects:\n",
    "1. Quantitavely, the value of the parameters themselves.\n",
    "2. Qualitatively, the estimated trajectories of the fish.\n",
    "\n",
    "We will use the biologging tag \"A18831\", which was also attached to a pollack fish, and the same reference data.\n",
    "\n",
    "**Note that, because of the size of the tag, the computations might not be tractable by common laptops.**"
   ]
  },
  {
   "cell_type": "markdown",
   "id": "1",
   "metadata": {},
   "source": [
    "**Workflow.**\n",
    "\n",
    "The key differences compared to the other notebook happen in the seventh step, in which we'll fit two geolocation models.\n",
    "If for the first one, nothing will change (since we will use only one parameter), for the second we additionally:\n",
    "1. Analyze the acoustic detections to identify **two** time intervals for **two** `sigma` parameters.\n",
    "2. Stamp the observation data `combined` with indices that follow the two time intervals identified before.\n",
    "3. Fit the _bi-sigma_ model. "
   ]
  },
  {
   "cell_type": "markdown",
   "id": "2",
   "metadata": {
    "editable": true,
    "slideshow": {
     "slide_type": ""
    },
    "tags": []
   },
   "source": [
    "## 1. Initialization and Biologging Data Preparation"
   ]
  },
  {
   "cell_type": "code",
   "execution_count": null,
   "id": "3",
   "metadata": {
    "editable": true,
    "raw_mimetype": "",
    "slideshow": {
     "slide_type": ""
    },
    "tags": []
   },
   "outputs": [],
   "source": [
    "!pip install rich zstandard\n",
    "# !pip install \"xarray-healpy @ git+https://github.com/iaocea/xarray-healpy.git@0ffca6058f4008f4f22f076e2d60787fcf32ac82\"\n",
    "!pip install xhealpixify\n",
    "# !pip install -e ../.\n",
    "!pip install movingpandas more_itertools\n",
    "!pip install --upgrade \"xarray<=2025.4.0\"\n",
    "!pip install xdggs\n",
    "!pip install healpix-convolution\n",
    "!pip install --upgrade \"cf-xarray>=0.10.4\""
   ]
  },
  {
   "cell_type": "code",
   "execution_count": null,
   "id": "4",
   "metadata": {},
   "outputs": [],
   "source": [
    "from pint_xarray import unit_registry as ureg\n",
    "import hvplot.xarray\n",
    "import xarray as xr\n",
    "import sys\n",
    "\n",
    "sys.path.append(\"../\")\n",
    "import pangeo_fish"
   ]
  },
  {
   "cell_type": "code",
   "execution_count": null,
   "id": "5",
   "metadata": {
    "editable": true,
    "slideshow": {
     "slide_type": ""
    },
    "tags": [
     "parameters"
    ]
   },
   "outputs": [],
   "source": [
    "tag_name = \"A18831\"\n",
    "\n",
    "tag_root = \"https://data-taos.ifremer.fr/data_tmp/cleaned/tag/\"\n",
    "\n",
    "ref_url = \"https://data-taos.ifremer.fr/kerchunk/ref-copernicus.yaml\"\n",
    "\n",
    "## example for remote storage\n",
    "scratch_root = \"s3://destine-gfts-data-lake/demo\"\n",
    "storage_options = {\n",
    "    \"anon\": False,\n",
    "    \"profile\": \"gfts\",\n",
    "    \"client_kwargs\": {\n",
    "        \"endpoint_url\": \"https://s3.gra.perf.cloud.ovh.net\",\n",
    "        \"region_name\": \"gra\",\n",
    "    },\n",
    "}\n",
    "## example for using your local file system instead\n",
    "scratch_root = \".\"\n",
    "storage_options = None\n",
    "\n",
    "chunk_time = 24\n",
    "dims = [\"cells\"]\n",
    "bbox = {\"latitude\": [46, 51], \"longitude\": [-8, -1]}\n",
    "\n",
    "\n",
    "relative_depth_threshold = 0.8\n",
    "rot = {\"lat\": 0, \"lon\": 0}\n",
    "nside = 4096\n",
    "min_vertices = 1\n",
    "\n",
    "differences_std = 0.75\n",
    "initial_std = 1e-6 if dims == [\"x\", \"y\"] else 1e-5\n",
    "recapture_std = 1e-2\n",
    "\n",
    "earth_radius = ureg.Quantity(6371, \"km\")\n",
    "maximum_speed = ureg.Quantity(60, \"km / day\")\n",
    "adjustment_factor = 5\n",
    "truncate = 4\n",
    "\n",
    "# receiver_buffer sets the maximum allowed detection distance for acoustic receivers.\n",
    "receiver_buffer = ureg.Quantity(1000, \"m\")\n",
    "\n",
    "# tolerance value for the minimization\n",
    "tolerance = 1e-3 if dims == [\"x\", \"y\"] else 1e-6\n",
    "\n",
    "track_modes = [\"mean\", \"mode\"]\n",
    "additional_track_quantities = [\"speed\", \"distance\"]\n",
    "time_step = 3"
   ]
  },
  {
   "cell_type": "code",
   "execution_count": null,
   "id": "6",
   "metadata": {
    "editable": true,
    "slideshow": {
     "slide_type": ""
    },
    "tags": []
   },
   "outputs": [],
   "source": [
    "# Define target root directories for storing analysis results.\n",
    "target_root = f\"{scratch_root}/{tag_name}\"\n",
    "\n",
    "# Defines default chunk size for optimization.\n",
    "default_chunk = {\"time\": chunk_time, \"lat\": -1, \"lon\": -1}\n",
    "default_chunk_dims = {\"time\": chunk_time}\n",
    "default_chunk_dims.update({d: -1 for d in dims})"
   ]
  },
  {
   "cell_type": "code",
   "execution_count": null,
   "id": "7",
   "metadata": {
    "editable": true,
    "slideshow": {
     "slide_type": ""
    },
    "tags": []
   },
   "outputs": [],
   "source": [
    "# Set up a local cluster for distributed computing.\n",
    "from distributed import LocalCluster\n",
    "\n",
    "cluster = LocalCluster()\n",
    "client = cluster.get_client()\n",
    "client"
   ]
  },
  {
   "cell_type": "code",
   "execution_count": null,
   "id": "8",
   "metadata": {
    "editable": true,
    "slideshow": {
     "slide_type": ""
    },
    "tags": []
   },
   "outputs": [],
   "source": [
    "from pangeo_fish.helpers import load_tag\n",
    "\n",
    "tag, tag_log, time_slice = load_tag(\n",
    "    tag_root=tag_root, tag_name=tag_name, storage_options=storage_options\n",
    ")\n",
    "tag"
   ]
  },
  {
   "cell_type": "markdown",
   "id": "9",
   "metadata": {},
   "source": [
    "You can plot the time series of the DST with the function `plot_tag()`:"
   ]
  },
  {
   "cell_type": "code",
   "execution_count": null,
   "id": "10",
   "metadata": {},
   "outputs": [],
   "source": [
    "from pangeo_fish.helpers import plot_tag\n",
    "\n",
    "plot = plot_tag(\n",
    "    tag=tag,\n",
    "    tag_log=tag_log,\n",
    "    # you can directly save the plot if you want\n",
    "    save_html=True,\n",
    "    storage_options=storage_options,\n",
    "    target_root=target_root,\n",
    ")\n",
    "plot"
   ]
  },
  {
   "cell_type": "markdown",
   "id": "11",
   "metadata": {
    "editable": true,
    "slideshow": {
     "slide_type": ""
    },
    "tags": []
   },
   "source": [
    "## 2. Reference Data Preparation"
   ]
  },
  {
   "cell_type": "code",
   "execution_count": null,
   "id": "12",
   "metadata": {
    "editable": true,
    "slideshow": {
     "slide_type": ""
    },
    "tags": []
   },
   "outputs": [],
   "source": [
    "from pangeo_fish.helpers import load_model, compute_diff\n",
    "\n",
    "reference_model = load_model(\n",
    "    uri=ref_url,\n",
    "    tag_log=tag_log,\n",
    "    time_slice=time_slice,\n",
    "    bbox=(bbox | {\"max_depth\": tag_log[\"pressure\"].max()}),\n",
    "    chunk_time=chunk_time,\n",
    ")\n",
    "diff = compute_diff(\n",
    "    reference_model=reference_model,\n",
    "    tag_log=tag_log,\n",
    "    relative_depth_threshold=relative_depth_threshold,\n",
    "    chunk_time=chunk_time,\n",
    ")[0]"
   ]
  },
  {
   "cell_type": "markdown",
   "id": "13",
   "metadata": {},
   "source": [
    "_We can detect abnormal data by looking at the number of non null values for each time step._"
   ]
  },
  {
   "cell_type": "code",
   "execution_count": null,
   "id": "14",
   "metadata": {},
   "outputs": [],
   "source": [
    "diff = diff.compute()"
   ]
  },
  {
   "cell_type": "code",
   "execution_count": null,
   "id": "15",
   "metadata": {},
   "outputs": [],
   "source": [
    "diff[\"diff\"].count([\"lat\", \"lon\"]).plot()\n",
    "diff"
   ]
  },
  {
   "cell_type": "markdown",
   "id": "16",
   "metadata": {},
   "source": [
    "_You can save the dataset if you want to resume the notebook later:_"
   ]
  },
  {
   "cell_type": "code",
   "execution_count": null,
   "id": "17",
   "metadata": {
    "editable": true,
    "slideshow": {
     "slide_type": ""
    },
    "tags": []
   },
   "outputs": [],
   "source": [
    "diff.to_zarr(f\"{target_root}/diff.zarr\", mode=\"w\", storage_options=storage_options)"
   ]
  },
  {
   "cell_type": "code",
   "execution_count": null,
   "id": "18",
   "metadata": {},
   "outputs": [],
   "source": [
    "from pangeo_fish.helpers import regrid_dataset\n",
    "\n",
    "reshaped = regrid_dataset(\n",
    "    ds=diff, nside=nside, min_vertices=min_vertices, rot=rot, dims=dims\n",
    ")[0]\n",
    "reshaped"
   ]
  },
  {
   "cell_type": "code",
   "execution_count": null,
   "id": "19",
   "metadata": {
    "editable": true,
    "slideshow": {
     "slide_type": ""
    },
    "tags": []
   },
   "outputs": [],
   "source": [
    "# Saves the result if needed\n",
    "reshaped.chunk(default_chunk_dims).to_zarr(\n",
    "    f\"{target_root}/diff-regridded.zarr\",\n",
    "    mode=\"w\",\n",
    "    consolidated=True,\n",
    "    compute=True,\n",
    "    storage_options=storage_options,\n",
    ")"
   ]
  },
  {
   "cell_type": "markdown",
   "id": "20",
   "metadata": {
    "editable": true,
    "slideshow": {
     "slide_type": ""
    },
    "tags": []
   },
   "source": [
    "## 3. Computation of the emission probability distribution"
   ]
  },
  {
   "cell_type": "code",
   "execution_count": null,
   "id": "21",
   "metadata": {
    "editable": true,
    "slideshow": {
     "slide_type": ""
    },
    "tags": []
   },
   "outputs": [],
   "source": [
    "from pangeo_fish.helpers import compute_emission_pdf"
   ]
  },
  {
   "cell_type": "code",
   "execution_count": null,
   "id": "22",
   "metadata": {
    "editable": true,
    "slideshow": {
     "slide_type": ""
    },
    "tags": []
   },
   "outputs": [],
   "source": [
    "# Open the previous dataset (only necessary if you resume the notebook from here)\n",
    "differences = xr.open_dataset(\n",
    "    f\"{target_root}/diff-regridded.zarr\",\n",
    "    engine=\"zarr\",\n",
    "    chunks={},\n",
    "    storage_options=storage_options,\n",
    ")\n",
    "# Or uncomment the instruction below to keep using the previous variable\n",
    "# differences = reshaped\n",
    "\n",
    "differences = differences.pipe(\n",
    "    lambda ds: ds.merge(ds[[\"latitude\", \"longitude\"]].compute())\n",
    ")\n",
    "\n",
    "emission_pdf = compute_emission_pdf(\n",
    "    diff_ds=differences,\n",
    "    events_ds=tag[\"tagging_events\"].ds,\n",
    "    differences_std=differences_std,\n",
    "    initial_std=initial_std,\n",
    "    recapture_std=recapture_std,\n",
    "    dims=dims,\n",
    "    chunk_time=chunk_time,\n",
    ")[0]\n",
    "emission_pdf"
   ]
  },
  {
   "cell_type": "markdown",
   "id": "23",
   "metadata": {},
   "source": [
    "_Save the intermediate result if needed:_"
   ]
  },
  {
   "cell_type": "code",
   "execution_count": null,
   "id": "24",
   "metadata": {
    "editable": true,
    "slideshow": {
     "slide_type": ""
    },
    "tags": []
   },
   "outputs": [],
   "source": [
    "emission_pdf.to_zarr(\n",
    "    f\"{target_root}/emission.zarr\",\n",
    "    mode=\"w\",\n",
    "    consolidated=True,\n",
    "    storage_options=storage_options,\n",
    ")"
   ]
  },
  {
   "cell_type": "markdown",
   "id": "25",
   "metadata": {},
   "source": [
    "Next, we compute a second _pdf_ based on the acoustic detection and combine the distributions."
   ]
  },
  {
   "cell_type": "code",
   "execution_count": null,
   "id": "26",
   "metadata": {},
   "outputs": [],
   "source": [
    "from pangeo_fish.helpers import compute_acoustic_pdf\n",
    "\n",
    "# Uncomment the following lines if you resume the notebook\n",
    "# emission_pdf = xr.open_dataset(\n",
    "#     f\"{target_root}/emission.zarr\",\n",
    "#     engine=\"zarr\",\n",
    "#     chunks={},\n",
    "#     storage_options=storage_options,\n",
    "# )\n",
    "acoustic_pdf = compute_acoustic_pdf(\n",
    "    emission_ds=emission_pdf,\n",
    "    tag=tag,\n",
    "    receiver_buffer=receiver_buffer,\n",
    "    chunk_time=chunk_time,\n",
    "    dims=dims,\n",
    ")[0].compute()\n",
    "acoustic_pdf"
   ]
  },
  {
   "cell_type": "code",
   "execution_count": null,
   "id": "27",
   "metadata": {},
   "outputs": [],
   "source": [
    "from pangeo_fish.helpers import combine_pdfs\n",
    "\n",
    "combined = combine_pdfs(\n",
    "    emission_ds=emission_pdf,\n",
    "    acoustic_ds=acoustic_pdf,\n",
    "    chunks=default_chunk_dims,\n",
    "    dims=dims,\n",
    ")[0]\n",
    "combined.to_zarr(\n",
    "    f\"{target_root}/combined.zarr\",\n",
    "    mode=\"w\",\n",
    "    consolidated=True,\n",
    "    storage_options=storage_options,\n",
    ")"
   ]
  },
  {
   "cell_type": "markdown",
   "id": "28",
   "metadata": {},
   "source": [
    "**Let's perform a last check before fitting the models.**"
   ]
  },
  {
   "cell_type": "code",
   "execution_count": null,
   "id": "29",
   "metadata": {},
   "outputs": [],
   "source": [
    "combined[\"pdf\"].sum(dims).plot(ylim=(0, 2))"
   ]
  },
  {
   "cell_type": "markdown",
   "id": "30",
   "metadata": {},
   "source": [
    "_The sums should equal to `1`._"
   ]
  },
  {
   "cell_type": "markdown",
   "id": "31",
   "metadata": {
    "editable": true,
    "slideshow": {
     "slide_type": ""
    },
    "tags": []
   },
   "source": [
    "## 4. One-sigma Model Estimation\n",
    "\n",
    "We assume that you have already followed the previous tutorial and as such, we don't comment the first minimization. "
   ]
  },
  {
   "cell_type": "code",
   "execution_count": null,
   "id": "32",
   "metadata": {},
   "outputs": [],
   "source": [
    "from pangeo_fish.helpers import optimize_pdf\n",
    "\n",
    "# Open the distributions\n",
    "emission = xr.open_dataset(\n",
    "    f\"{target_root}/combined.zarr\",\n",
    "    engine=\"zarr\",\n",
    "    chunks=default_chunk_dims,\n",
    "    inline_array=True,\n",
    "    storage_options=storage_options,\n",
    ")\n",
    "# Define the parameter's bounds and search for the best value\n",
    "params, updated_emission = optimize_pdf(\n",
    "    ds=emission,\n",
    "    earth_radius=earth_radius,\n",
    "    adjustment_factor=adjustment_factor,\n",
    "    truncate=truncate,\n",
    "    maximum_speed=maximum_speed,\n",
    "    tolerance=tolerance,\n",
    "    dims=dims,\n",
    "    # we save the result of the first model under a subfolder \"one_sigma\"\n",
    "    save_parameters=True,\n",
    "    storage_options=storage_options,\n",
    "    target_root=f\"{target_root}/one_sigma\",\n",
    ")\n",
    "params"
   ]
  },
  {
   "cell_type": "code",
   "execution_count": null,
   "id": "33",
   "metadata": {},
   "outputs": [],
   "source": [
    "# Optionally, we can save the emission dataset with the new attributes in the subfolder (but this is mostly redundant data)\n",
    "updated_emission.to_zarr(\n",
    "    f\"{target_root}/one_sigma/combined.zarr\",\n",
    "    mode=\"w\",\n",
    "    consolidated=True,\n",
    "    storage_options=storage_options,\n",
    ")"
   ]
  },
  {
   "cell_type": "markdown",
   "id": "34",
   "metadata": {},
   "source": [
    "## 5. Bi-sigma Model Estimation\n",
    "\n",
    "As introduced at the beginning of this guide, we aim to compare the previously fitted 1-`sigma` model with a more complex, 2-`sigma` one.\n",
    "\n",
    "So let's finally define the optimization task, which has now **two `sigma`values**."
   ]
  },
  {
   "cell_type": "markdown",
   "id": "35",
   "metadata": {},
   "source": [
    "### 5.1 Finding the time intervals for each `sigma`\n",
    "\n",
    "Instead of arbitrarily define the times, we use a convenient function that uses the acoustic detections. "
   ]
  },
  {
   "cell_type": "code",
   "execution_count": null,
   "id": "36",
   "metadata": {},
   "outputs": [],
   "source": [
    "from pangeo_fish.helpers import compute_detection_time_intervals\n",
    "\n",
    "times = compute_detection_time_intervals(tag=tag)\n",
    "times"
   ]
  },
  {
   "cell_type": "markdown",
   "id": "37",
   "metadata": {},
   "source": [
    "**Explanations**\n",
    "\n",
    "_The tag includes a few detections that occur around the same time._\n",
    "\n",
    "_The function above omits them and returns the first detection time over this period._\n",
    "\n",
    "_Since we have one time, the Brownian motion of the model will have two parameters: the first `sigma` will be used until `times[0]`, and the second one will be used for the rest of the time._"
   ]
  },
  {
   "cell_type": "markdown",
   "id": "38",
   "metadata": {},
   "source": [
    "### 5.2 Stamping the observations with the parameter indices\n",
    "\n",
    "In order for the function `optimize_pdf()` to know where to use and minimize each parameter, we need to add a variable called `predictor_index` to our observations.\n",
    "\n",
    "Luckily, the `pangeo_fish.helpers` module has a function that, given a list of times, automatically add these indices to the emission data:"
   ]
  },
  {
   "cell_type": "code",
   "execution_count": null,
   "id": "39",
   "metadata": {},
   "outputs": [],
   "source": [
    "from pangeo_fish.helpers import stamp_parameter_indices\n",
    "\n",
    "emission = stamp_parameter_indices(pdf=emission, times=times)\n",
    "emission"
   ]
  },
  {
   "cell_type": "markdown",
   "id": "40",
   "metadata": {},
   "source": [
    "_Above, you can see that, since we have two parameters (as detailed above, `times` has just one time), `predictor_index` mostly consists of adding the index \"0\" for all the times before `times[0]`, and \"1\" for the remaining observations._"
   ]
  },
  {
   "cell_type": "markdown",
   "id": "41",
   "metadata": {},
   "source": [
    "When it comes to performing the parameter optimization itself, nothing changes compared to what we have already done: the function `optimize_pdf()` will automatically detect the parameter indices and optimize a mutli-sigma model accordingly."
   ]
  },
  {
   "cell_type": "code",
   "execution_count": null,
   "id": "42",
   "metadata": {},
   "outputs": [],
   "source": [
    "params2, updated_emission2 = optimize_pdf(\n",
    "    ds=emission,\n",
    "    earth_radius=earth_radius,\n",
    "    adjustment_factor=adjustment_factor,\n",
    "    truncate=truncate,\n",
    "    maximum_speed=maximum_speed,\n",
    "    tolerance=tolerance,\n",
    "    dims=dims,\n",
    "    # let's use another subfolder called \"two_sigma\"\n",
    "    save_parameters=True,\n",
    "    storage_options=storage_options,\n",
    "    target_root=f\"{target_root}/two_sigma\",\n",
    ")\n",
    "params2"
   ]
  },
  {
   "cell_type": "markdown",
   "id": "43",
   "metadata": {},
   "source": [
    "_As before, you can optionally save the emission dataset whose attributes have been updated with the results of the optimization..._"
   ]
  },
  {
   "cell_type": "code",
   "execution_count": null,
   "id": "44",
   "metadata": {},
   "outputs": [],
   "source": [
    "updated_emission2.to_zarr(\n",
    "    f\"{target_root}/two_sigma/combined.zarr\",\n",
    "    mode=\"w\",\n",
    "    consolidated=True,\n",
    "    storage_options=storage_options,\n",
    ")"
   ]
  },
  {
   "cell_type": "markdown",
   "id": "45",
   "metadata": {},
   "source": [
    "## 6. State and Trajectory Estimation\n",
    "\n",
    "Now, for each model, we generate the fish's location probabilities `states` as well as the `mean` and `mode` trajectories."
   ]
  },
  {
   "cell_type": "code",
   "execution_count": null,
   "id": "46",
   "metadata": {},
   "outputs": [],
   "source": [
    "from pangeo_fish.helpers import predict_positions\n",
    "\n",
    "for subfolder in [\"one_sigma\", \"two_sigma\"]:\n",
    "    states, trajectories = predict_positions(\n",
    "        target_root=f\"{target_root}/{subfolder}\",\n",
    "        storage_options=storage_options,\n",
    "        chunks=default_chunk_dims,\n",
    "        track_modes=track_modes,\n",
    "        additional_track_quantities=additional_track_quantities,\n",
    "        save=True,\n",
    "    )"
   ]
  },
  {
   "cell_type": "markdown",
   "id": "47",
   "metadata": {},
   "source": [
    "**When predicting the fish's locations (dataset `states`) with more than one `sigma` parameter, the values of the parameters at each time are to `states`:**"
   ]
  },
  {
   "cell_type": "code",
   "execution_count": null,
   "id": "48",
   "metadata": {},
   "outputs": [],
   "source": [
    "states"
   ]
  },
  {
   "cell_type": "markdown",
   "id": "49",
   "metadata": {},
   "source": [
    "## 7. Result Comparison\n",
    "\n",
    "Let's briefly illustrate how we can start comparing the estimation of the two models.\n",
    "\n",
    "Feel free to change and adapt the code!"
   ]
  },
  {
   "cell_type": "markdown",
   "id": "50",
   "metadata": {},
   "source": [
    "### 7.1 Qualitative Comparison\n",
    "\n",
    "A first comparison can simply consist of checking the `sigma` values.\n",
    "\n",
    "In case you haven't checked them already, you can browse the `.json` files with the following function:"
   ]
  },
  {
   "cell_type": "code",
   "execution_count": null,
   "id": "51",
   "metadata": {},
   "outputs": [],
   "source": [
    "import fsspec, json\n",
    "\n",
    "\n",
    "def open_json_file(filepath: str, storage_options: dict):\n",
    "    json_file = {}\n",
    "    try:\n",
    "        with fsspec.open(\n",
    "            filepath,\n",
    "            \"r\",\n",
    "            **{} if not filepath.startswith(\"s3://\") else storage_options,\n",
    "        ) as file:\n",
    "            json_file = json.load(file)\n",
    "    except Exception as e:\n",
    "        print(\"The following error occurred upon opening the json file:\", e)\n",
    "    finally:\n",
    "        return json_file"
   ]
  },
  {
   "cell_type": "code",
   "execution_count": null,
   "id": "52",
   "metadata": {},
   "outputs": [],
   "source": [
    "print(\n",
    "    \"Value(s) of the parameter(s) of the first model:\",\n",
    "    open_json_file(f\"{target_root}/one_sigma/parameters.json\", storage_options)[\n",
    "        \"sigmas\"\n",
    "    ],\n",
    ")"
   ]
  },
  {
   "cell_type": "code",
   "execution_count": null,
   "id": "53",
   "metadata": {},
   "outputs": [],
   "source": [
    "print(\n",
    "    \"Value(s) of the parameter(s) of the second (bi-sigma) model:\",\n",
    "    open_json_file(f\"{target_root}/two_sigma/parameters.json\", storage_options)[\n",
    "        \"sigmas\"\n",
    "    ],\n",
    ")"
   ]
  },
  {
   "cell_type": "markdown",
   "id": "54",
   "metadata": {},
   "source": [
    "### 7.2 Qualitative Comparison\n",
    "\n",
    "A less precise but more understandable comparison of the results can also be done by looking at the trajectories estimated by each model: "
   ]
  },
  {
   "cell_type": "code",
   "execution_count": null,
   "id": "55",
   "metadata": {},
   "outputs": [],
   "source": [
    "from pangeo_fish.helpers import plot_trajectories\n",
    "\n",
    "traj_plots = [\n",
    "    plot_trajectories(\n",
    "        target_root=f\"{target_root}/{subfolder}\",\n",
    "        track_modes=track_modes,\n",
    "        storage_options=storage_options,\n",
    "        save_html=True,\n",
    "    ).options(title=f\"Model's Folder: {subfolder}\")\n",
    "    for subfolder in [\"one_sigma\", \"two_sigma\"]\n",
    "]\n",
    "\n",
    "(traj_plots[0] + traj_plots[1]).cols(2)"
   ]
  }
 ],
 "metadata": {
  "language_info": {
   "codemirror_mode": {
    "name": "ipython",
    "version": 3
   },
   "file_extension": ".py",
   "mimetype": "text/x-python",
   "name": "python",
   "nbconvert_exporter": "python",
   "pygments_lexer": "ipython3"
  }
 },
 "nbformat": 4,
 "nbformat_minor": 5
}
